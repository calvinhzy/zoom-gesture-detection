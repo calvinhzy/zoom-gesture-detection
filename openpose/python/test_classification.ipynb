{
 "cells": [
  {
   "cell_type": "code",
   "execution_count": 59,
   "metadata": {
    "ExecuteTime": {
     "end_time": "2020-12-18T16:01:07.936930Z",
     "start_time": "2020-12-18T16:01:07.918926Z"
    }
   },
   "outputs": [],
   "source": [
    "import numpy as np\n",
    "from sklearn.model_selection import KFold\n",
    "from sklearn.neighbors import KNeighborsClassifier\n",
    "import matplotlib.pyplot as plt"
   ]
  },
  {
   "cell_type": "code",
   "execution_count": 67,
   "metadata": {
    "ExecuteTime": {
     "end_time": "2020-12-18T16:14:19.155601Z",
     "start_time": "2020-12-18T16:14:19.150601Z"
    }
   },
   "outputs": [],
   "source": [
    "def load_data(file_name, class_label, X, Y):\n",
    "    with open(file_name) as input_file:\n",
    "        line = input_file.readline()\n",
    "        while line:\n",
    "            X.append(line[:-1].split(',')[:-1])\n",
    "            Y.append(class_label)\n",
    "            line = input_file.readline()\n"
   ]
  },
  {
   "cell_type": "code",
   "execution_count": 89,
   "metadata": {
    "ExecuteTime": {
     "end_time": "2020-12-18T16:34:28.689118Z",
     "start_time": "2020-12-18T16:34:28.661567Z"
    }
   },
   "outputs": [
    {
     "name": "stdout",
     "output_type": "stream",
     "text": [
      "(188, 126)\n",
      "(188,)\n"
     ]
    }
   ],
   "source": [
    "X = []\n",
    "Y = []\n",
    "num_classes = 5\n",
    "gestures = ['thumbs_up','thumbs_down','check','cross','ok_sign']\n",
    "for i,gesture in enumerate(gestures):\n",
    "    load_data(gesture+'.csv',i, X, Y)\n",
    "X = np.array(X)\n",
    "Y = np.array(Y)\n",
    "X = X.astype(np.float64)\n",
    "print(X.shape)\n",
    "print(Y.shape)\n"
   ]
  },
  {
   "cell_type": "code",
   "execution_count": 92,
   "metadata": {
    "ExecuteTime": {
     "end_time": "2020-12-18T16:34:54.602349Z",
     "start_time": "2020-12-18T16:34:54.597357Z"
    }
   },
   "outputs": [],
   "source": [
    "confidence_threshold = 0.2\n",
    "num_points = 42\n",
    "percent_points_confident = 0.3 \n",
    "def preprocess(X, Y):\n",
    "    processed_X, processed_Y = [], []\n",
    "    for i,x in enumerate(X):\n",
    "        confidences = x[2::3]\n",
    "        if np.count_nonzero(confidences>confidence_threshold)>percent_points_confident*42:\n",
    "            processed_X.append(x)\n",
    "            processed_Y.append(Y[i])\n",
    "    processed_X = np.array(processed_X)\n",
    "    processed_Y = np.array(processed_Y)\n",
    "    return processed_X, processed_Y"
   ]
  },
  {
   "cell_type": "code",
   "execution_count": 100,
   "metadata": {
    "ExecuteTime": {
     "end_time": "2020-12-18T16:38:48.523991Z",
     "start_time": "2020-12-18T16:38:48.518999Z"
    }
   },
   "outputs": [
    {
     "name": "stdout",
     "output_type": "stream",
     "text": [
      "(188, 126)\n",
      "(188,)\n"
     ]
    }
   ],
   "source": [
    "# X_array,Y_array = preprocess(X,Y)\n",
    "X_array, Y_array = np.array(X), np.array(Y)\n",
    "print(X_array.shape)\n",
    "print(Y_array.shape)"
   ]
  },
  {
   "cell_type": "code",
   "execution_count": 101,
   "metadata": {
    "ExecuteTime": {
     "end_time": "2020-12-18T16:38:49.529899Z",
     "start_time": "2020-12-18T16:38:49.521897Z"
    }
   },
   "outputs": [],
   "source": [
    "def testPerformance(clf, X, Y):\n",
    "    # print(X.shape)\n",
    "    # print(Y.shape)\n",
    "    scores = []\n",
    "    classIncorrect = [0]*num_classes\n",
    "    classTotal = [0]*num_classes\n",
    "    for train_index, test_index in cv.split(X):\n",
    "    #     print(\"Train Index: \", train_index)\n",
    "    #     print(\"Test Index: \", test_index)\n",
    "        X_train, X_test, y_train, y_test = X[train_index], X[test_index], Y[train_index], Y[test_index]\n",
    "        clf.fit(X_train, y_train)\n",
    "        pred = clf.predict(X_test)\n",
    "        for i,t in enumerate(y_test):\n",
    "            if y_test[i]!= pred[i]:\n",
    "    #             print(y_test[i],pred[i])\n",
    "                classIncorrect[y_test[i]]+=1\n",
    "            classTotal[y_test[i]]+=1\n",
    "        s = clf.score(X_test, y_test)\n",
    "        scores.append(s)\n",
    "    print('Num incorrect for each class: ', classIncorrect, 'Num total for each class: ', classTotal)\n",
    "    classAccuracy = [(classTotal[i]-classIncorrect[i])/classTotal[i] for i in range(len(classTotal))]\n",
    "    print(\"Class accuracy\")\n",
    "    print(classAccuracy)\n",
    "    print(\"Mean accuracy:\" + str(np.mean(scores)))\n",
    "    print(scores)    "
   ]
  },
  {
   "cell_type": "code",
   "execution_count": 102,
   "metadata": {
    "ExecuteTime": {
     "end_time": "2020-12-18T16:38:50.455097Z",
     "start_time": "2020-12-18T16:38:50.109019Z"
    }
   },
   "outputs": [
    {
     "name": "stdout",
     "output_type": "stream",
     "text": [
      "Num incorrect for each class:  [0, 2, 0, 2, 3] Num total for each class:  [39, 46, 33, 39, 31]\n",
      "Class accuracy\n",
      "[1.0, 0.9565217391304348, 1.0, 0.9487179487179487, 0.9032258064516129]\n",
      "Mean accuracy:0.9628654970760234\n",
      "[0.9473684210526315, 0.8947368421052632, 1.0, 1.0, 1.0, 0.9473684210526315, 1.0, 0.8947368421052632, 0.9444444444444444, 1.0]\n",
      "Confusion matrix, without normalization\n",
      "[[39  0  0  0  0]\n",
      " [ 1 45  0  0  0]\n",
      " [ 0  0 33  0  0]\n",
      " [ 1  0  0 38  0]\n",
      " [ 0  0  0  0 31]]\n",
      "Normalized confusion matrix\n",
      "[[1.   0.   0.   0.   0.  ]\n",
      " [0.02 0.98 0.   0.   0.  ]\n",
      " [0.   0.   1.   0.   0.  ]\n",
      " [0.03 0.   0.   0.97 0.  ]\n",
      " [0.   0.   0.   0.   1.  ]]\n"
     ]
    },
    {
     "data": {
      "image/png": "[encoded data removed]",
      "text/plain": [
       "<Figure size 432x288 with 2 Axes>"
      ]
     },
     "metadata": {
      "needs_background": "light"
     },
     "output_type": "display_data"
    },
    {
     "data": {
      "image/png": "[encoded data removed]",
      "text/plain": [
       "<Figure size 432x288 with 2 Axes>"
      ]
     },
     "metadata": {
      "needs_background": "light"
     },
     "output_type": "display_data"
    }
   ],
   "source": [
    "cv = KFold(n_splits=10, shuffle=True, random_state=10)\n",
    "clf = KNeighborsClassifier(n_neighbors=2)\n",
    "testPerformance(clf, X_array, Y_array)\n",
    "from sklearn.metrics import plot_confusion_matrix\n",
    "\n",
    "\n",
    "np.set_printoptions(precision=2)\n",
    "\n",
    "# Plot non-normalized confusion matrix\n",
    "titles_options = [(\"Confusion matrix, without normalization\", None),\n",
    "                  (\"Normalized confusion matrix\", 'true')]\n",
    "for title, normalize in titles_options:\n",
    "    disp = plot_confusion_matrix(clf, X_array, Y_array,\n",
    "                                 display_labels=gestures,\n",
    "                                 cmap=plt.cm.Blues,\n",
    "                                 normalize=normalize)\n",
    "    disp.ax_.set_title(title)\n",
    "\n",
    "    print(title)\n",
    "    print(disp.confusion_matrix)\n",
    "\n",
    "plt.show()"
   ]
  },
  {
   "cell_type": "code",
   "execution_count": null,
   "metadata": {},
   "outputs": [],
   "source": []
  },
  {
   "cell_type": "code",
   "execution_count": null,
   "metadata": {},
   "outputs": [],
   "source": []
  }
 ],
 "metadata": {
  "kernelspec": {
   "display_name": "Python 3",
   "language": "python",
   "name": "python3"
  },
  "language_info": {
   "codemirror_mode": {
    "name": "ipython",
    "version": 3
   },
   "file_extension": ".py",
   "mimetype": "text/x-python",
   "name": "python",
   "nbconvert_exporter": "python",
   "pygments_lexer": "ipython3",
   "version": "3.7.4"
  }
 },
 "nbformat": 4,
 "nbformat_minor": 2
}
